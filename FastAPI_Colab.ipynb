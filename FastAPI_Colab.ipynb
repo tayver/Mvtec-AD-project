{
  "nbformat": 4,
  "nbformat_minor": 0,
  "metadata": {
    "colab": {
      "provenance": [],
      "include_colab_link": true
    },
    "kernelspec": {
      "name": "python3",
      "display_name": "Python 3"
    },
    "language_info": {
      "name": "python"
    }
  },
  "cells": [
    {
      "cell_type": "markdown",
      "metadata": {
        "id": "view-in-github",
        "colab_type": "text"
      },
      "source": [
        "<a href=\"https://colab.research.google.com/github/tayver/Mvtec-AD-project/blob/main/FastAPI_Colab.ipynb\" target=\"_parent\"><img src=\"https://colab.research.google.com/assets/colab-badge.svg\" alt=\"Open In Colab\"/></a>"
      ]
    },
    {
      "cell_type": "code",
      "source": [
        "from google.colab import drive\n",
        "drive.mount('/content/drive')"
      ],
      "metadata": {
        "colab": {
          "base_uri": "https://localhost:8080/"
        },
        "id": "lraz6cnNDjEH",
        "outputId": "40e9ab7e-36f7-4139-b4f9-8bf9a65a3f22"
      },
      "execution_count": null,
      "outputs": [
        {
          "output_type": "stream",
          "name": "stdout",
          "text": [
            "Mounted at /content/drive\n"
          ]
        }
      ]
    },
    {
      "cell_type": "code",
      "source": [
        "%%capture\n",
        "!pip install fastapi nest-asyncio pyngrok uvicorn"
      ],
      "metadata": {
        "id": "NEfjM2DS1NUx"
      },
      "execution_count": null,
      "outputs": []
    },
    {
      "cell_type": "code",
      "execution_count": null,
      "metadata": {
        "id": "imT8r7b9vs1o"
      },
      "outputs": [],
      "source": [
        "%%capture\n",
        "!pip install fastapi\n",
        "!pip install uvicorn\n",
        "!pip install pyngrok"
      ]
    },
    {
      "cell_type": "code",
      "source": [
        "from typing import Union\n",
        "from fastapi import FastAPI, UploadFile, File\n",
        "from tensorflow.keras.models import load_model\n",
        "from starlette.requests import Request\n",
        "from fastapi import FastAPI, HTTPException, UploadFile, File\n",
        "from starlette.requests import Request\n",
        "from starlette.responses import HTMLResponse\n",
        "from tensorflow.keras.models import load_model\n",
        "from PIL import Image\n",
        "import numpy as np\n",
        "import io"
      ],
      "metadata": {
        "id": "Aou0ot9SCrPf"
      },
      "execution_count": null,
      "outputs": []
    },
    {
      "cell_type": "code",
      "source": [
        "!pip install python-multipart"
      ],
      "metadata": {
        "colab": {
          "base_uri": "https://localhost:8080/"
        },
        "id": "v5uxt-2IDzsg",
        "outputId": "91dfad7c-90b7-4750-bed4-1ef1101139e7"
      },
      "execution_count": null,
      "outputs": [
        {
          "output_type": "stream",
          "name": "stdout",
          "text": [
            "Requirement already satisfied: python-multipart in /usr/local/lib/python3.10/dist-packages (0.0.6)\n"
          ]
        }
      ]
    },
    {
      "cell_type": "code",
      "source": [
        "%cd /content/drive/MyDrive"
      ],
      "metadata": {
        "colab": {
          "base_uri": "https://localhost:8080/"
        },
        "id": "5roVX87cDtC3",
        "outputId": "13f533e4-2eee-4c2f-a985-c1ce2e24f709"
      },
      "execution_count": null,
      "outputs": [
        {
          "output_type": "stream",
          "name": "stdout",
          "text": [
            "/content/drive/MyDrive\n"
          ]
        }
      ]
    },
    {
      "cell_type": "code",
      "source": [
        "app = FastAPI()\n",
        "\n",
        "model = load_model('anomaly-segmentation-model.h5')\n",
        "\n",
        "@app.post(\"/predict\")\n",
        "async def predict(file: UploadFile = File(...)):\n",
        "    # 이미지 불러오기 및 전처리\n",
        "    image = Image.open(io.BytesIO(await file.read()))\n",
        "    image = image.resize((150, 150)).convert('L')\n",
        "    image = np.array(image) / 255.0\n",
        "    image = image.reshape(-1, 150, 150, 3)\n",
        "\n",
        "    # 예측\n",
        "    pred = model.predict(image)\n",
        "    result = np.argmax(pred)\n",
        "\n",
        "    return {\"result\": int(result)}\n",
        "\n",
        "@app.get(\"/\", response_class=HTMLResponse)\n",
        "async def read_root(request: Request):\n",
        "    return \"\"\"\n",
        "    <html>\n",
        "        <body>\n",
        "            <form action=\"/predict\" enctype=\"multipart/form-data\" method=\"post\">\n",
        "                <input name=\"file\" type=\"file\">\n",
        "                <input type=\"submit\">\n",
        "            </form>\n",
        "        </body>\n",
        "    </html>\n",
        "    \"\"\"\n",
        "\n",
        "@app.get(\"/items/{item_id}\")\n",
        "def read_item(item_id: int, q: str):\n",
        "    return {\"item_id\": item_id, \"q\": q}\n"
      ],
      "metadata": {
        "id": "_DKoL8hWvwLl"
      },
      "execution_count": null,
      "outputs": []
    },
    {
      "cell_type": "markdown",
      "source": [
        "ngrok\n",
        "- 일시적인 테스트나 개발용으로 설계\n",
        "- 로컬 컴퓨터에서 실행되는 애플리케이션을 외부 인터넷에 연결하는 역할"
      ],
      "metadata": {
        "id": "zP8ReS7Tzj8u"
      }
    },
    {
      "cell_type": "code",
      "source": [
        "!ngrok config add-authtoken 2SqNYCor1LaPOgiWdEggRXdreRs_6UYbPyxDKXYcDkBRwKwP3"
      ],
      "metadata": {
        "colab": {
          "base_uri": "https://localhost:8080/"
        },
        "id": "Qq1X_LwLHhZd",
        "outputId": "43349a06-1e07-40f9-db06-a9b14dae4237"
      },
      "execution_count": null,
      "outputs": [
        {
          "output_type": "stream",
          "name": "stdout",
          "text": [
            "Authtoken saved to configuration file: /root/.ngrok2/ngrok.yml\n"
          ]
        }
      ]
    },
    {
      "cell_type": "code",
      "source": [
        "from pyngrok import ngrok\n",
        "import uvicorn\n",
        "import threading\n",
        "\n",
        "url = ngrok.connect(8000)  # FastAPI의 기본 포트는 8000입니다.\n",
        "print('Public URL:', url)\n",
        "\n",
        "def run():\n",
        "    uvicorn.run(app, host=\"0.0.0.0\", port=8000)\n",
        "\n",
        "threading.Thread(target=run).start()\n"
      ],
      "metadata": {
        "id": "99yrRlnevyBU",
        "colab": {
          "base_uri": "https://localhost:8080/"
        },
        "outputId": "5926b296-40d6-4b4d-d5db-a13de50edb7b"
      },
      "execution_count": null,
      "outputs": [
        {
          "output_type": "stream",
          "name": "stderr",
          "text": [
            "WARNING:pyngrok.process.ngrok:t=2023-07-20T16:27:02+0000 lvl=warn msg=\"ngrok config file found at legacy location, move to XDG location\" xdg_path=/root/.config/ngrok/ngrok.yml legacy_path=/root/.ngrok2/ngrok.yml\n"
          ]
        },
        {
          "output_type": "stream",
          "name": "stdout",
          "text": [
            "Public URL: NgrokTunnel: \"https://2d9f-34-125-161-246.ngrok-free.app\" -> \"http://localhost:8000\"\n"
          ]
        },
        {
          "output_type": "stream",
          "name": "stderr",
          "text": [
            "INFO:     Started server process [4393]\n",
            "INFO:     Waiting for application startup.\n"
          ]
        }
      ]
    },
    {
      "cell_type": "code",
      "source": [
        "!lsof -i :8000"
      ],
      "metadata": {
        "colab": {
          "base_uri": "https://localhost:8080/"
        },
        "id": "2tt_UDcVv1U2",
        "outputId": "150436ea-466e-48a3-f8fb-76c3c8f17239"
      },
      "execution_count": null,
      "outputs": [
        {
          "output_type": "stream",
          "name": "stdout",
          "text": [
            "COMMAND  PID USER   FD   TYPE DEVICE SIZE/OFF NODE NAME\n",
            "python3 4393 root   49u  IPv4 150107      0t0  TCP *:8000 (LISTEN)\n"
          ]
        }
      ]
    },
    {
      "cell_type": "code",
      "source": [
        "!kill -9 387"
      ],
      "metadata": {
        "id": "JiVWXeEFxp5M",
        "colab": {
          "base_uri": "https://localhost:8080/"
        },
        "outputId": "32fed03c-e04c-4591-fe68-34fd13c63a75"
      },
      "execution_count": null,
      "outputs": [
        {
          "output_type": "stream",
          "name": "stdout",
          "text": [
            "/bin/bash: line 1: kill: (387) - No such process\n"
          ]
        }
      ]
    },
    {
      "cell_type": "code",
      "source": [],
      "metadata": {
        "id": "reJijKbsEBkv"
      },
      "execution_count": null,
      "outputs": []
    }
  ]
}